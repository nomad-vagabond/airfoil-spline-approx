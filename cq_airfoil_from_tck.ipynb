{
 "cells": [
  {
   "cell_type": "code",
   "execution_count": 1,
   "id": "f75babf4",
   "metadata": {},
   "outputs": [
    {
     "name": "stdout",
     "output_type": "stream",
     "text": [
      "Overwriting auto display for cadquery Workplane and Shape\n"
     ]
    }
   ],
   "source": [
    "import cadquery as cq\n",
    "\n",
    "from OCP.gp import gp_Pnt\n",
    "from OCP.TColgp import TColgp_Array1OfPnt\n",
    "from OCP.TColStd import TColStd_Array1OfInteger, TColStd_Array1OfReal\n",
    "from OCP.Geom import Geom_BSplineCurve\n",
    "from OCP.BRepBuilderAPI import BRepBuilderAPI_MakeEdge\n",
    "\n",
    "import numpy as np\n",
    "from scipy.interpolate import splprep, InterpolatedUnivariateSpline, UnivariateSpline\n",
    "from jupyter_cadquery import show\n",
    "import matplotlib.pyplot as plt\n",
    "\n",
    "import splinecloud_scipy as sc"
   ]
  },
  {
   "cell_type": "markdown",
   "id": "99e8bc62",
   "metadata": {},
   "source": [
    "## Airfoil B-Spline data"
   ]
  },
  {
   "cell_type": "code",
   "execution_count": 2,
   "id": "d7f8c949",
   "metadata": {},
   "outputs": [],
   "source": [
    "degree = 3"
   ]
  },
  {
   "cell_type": "code",
   "execution_count": 3,
   "id": "fd2b8b17",
   "metadata": {},
   "outputs": [],
   "source": [
    "airfoil_knots = [0, 0.27126526377831234, 0.48788651718430687, 0.7126821575112824, 1]"
   ]
  },
  {
   "cell_type": "code",
   "execution_count": 4,
   "id": "1087fe58",
   "metadata": {},
   "outputs": [],
   "source": [
    "airfoil_control_points = [\n",
    "    [1, 0.000599299999999952],\n",
    "    [0.5903084290690273, 0.09709044559810814],\n",
    "    [0.16053266616329936, 0.10390785536734934],\n",
    "    [-0.013154877803984444, 0.017472696717591888],\n",
    "    [-0.007082643051840989, -0.04825576822658678],\n",
    "    [0.41783319693438964, -0.020080991735084767],\n",
    "    [1, -0.0005451233447249099]\n",
    "]"
   ]
  },
  {
   "cell_type": "markdown",
   "id": "87a74a78",
   "metadata": {},
   "source": [
    "## Construct OCC B-Spline from Knots, Knot multiplicities, control points and degree"
   ]
  },
  {
   "cell_type": "code",
   "execution_count": 5,
   "id": "49297db5",
   "metadata": {},
   "outputs": [],
   "source": [
    "def build_spline(knot_vector, control_points, degree):\n",
    "    \n",
    "    knot_mults = list(map(lambda k: degree+1 if k in (0,1) else 1, knot_vector))\n",
    "\n",
    "    poles = TColgp_Array1OfPnt(1, len(control_points))\n",
    "    for i, cp in enumerate(control_points):\n",
    "        poles.SetValue(i+1, gp_Pnt(cp[0], cp[1], 0))\n",
    "        \n",
    "    knots = TColStd_Array1OfReal(1, len(knot_vector))\n",
    "    for i, k in enumerate(knot_vector):\n",
    "        knots.SetValue(i+1, k)\n",
    "        \n",
    "    mults = TColStd_Array1OfInteger(1, len(knot_mults))\n",
    "    for i, m in enumerate(knot_mults):\n",
    "        mults.SetValue(i+1, m)\n",
    "        \n",
    "    bspl = Geom_BSplineCurve(poles, knots, mults, degree)\n",
    "    \n",
    "    return bspl "
   ]
  },
  {
   "cell_type": "code",
   "execution_count": 6,
   "id": "b0d50db3",
   "metadata": {},
   "outputs": [],
   "source": [
    "airfoil_bspl = build_spline(airfoil_knots, airfoil_control_points, degree)"
   ]
  },
  {
   "cell_type": "markdown",
   "id": "a031641f",
   "metadata": {},
   "source": [
    "## Construct CQ geometry"
   ]
  },
  {
   "cell_type": "code",
   "execution_count": 7,
   "id": "ac643507",
   "metadata": {},
   "outputs": [],
   "source": [
    "airfoil_edge = cq.Edge(BRepBuilderAPI_MakeEdge(airfoil_bspl).Edge())"
   ]
  },
  {
   "cell_type": "code",
   "execution_count": 8,
   "id": "8f44703c",
   "metadata": {},
   "outputs": [
    {
     "data": {
      "application/vnd.jupyter.widget-view+json": {
       "model_id": "aca3571ed04342dba48186ef6a7719de",
       "version_major": 2,
       "version_minor": 0
      },
      "text/plain": [
       "CadViewerWidget(anchor=None, cad_width=800, glass=False, height=600, pinning=False, theme='light', title=None,…"
      ]
     },
     "metadata": {},
     "output_type": "display_data"
    },
    {
     "data": {
      "text/html": [
       "<div></div>"
      ],
      "text/plain": [
       "<IPython.core.display.HTML object>"
      ]
     },
     "metadata": {},
     "output_type": "display_data"
    }
   ],
   "source": [
    "airfoil_sketch = cq.Sketch().edge(airfoil_edge).close().assemble()\n",
    "airfoil_sketch"
   ]
  },
  {
   "cell_type": "code",
   "execution_count": 9,
   "id": "aa34f306",
   "metadata": {},
   "outputs": [
    {
     "data": {
      "application/vnd.jupyter.widget-view+json": {
       "model_id": "331b5208456649f98c472bada3ecca9c",
       "version_major": 2,
       "version_minor": 0
      },
      "text/plain": [
       "CadViewerWidget(anchor=None, cad_width=800, glass=False, height=600, pinning=False, theme='light', title=None,…"
      ]
     },
     "metadata": {},
     "output_type": "display_data"
    },
    {
     "data": {
      "text/html": [
       "<div></div>"
      ],
      "text/plain": [
       "<IPython.core.display.HTML object>"
      ]
     },
     "metadata": {},
     "output_type": "display_data"
    }
   ],
   "source": [
    "airfoil_body = cq.Workplane().placeSketch(airfoil_sketch).extrude(1)\n",
    "airfoil_body"
   ]
  },
  {
   "cell_type": "markdown",
   "id": "26eaedc4",
   "metadata": {},
   "source": [
    "## Load profile data from SplineCloud"
   ]
  },
  {
   "cell_type": "code",
   "execution_count": 10,
   "id": "b108dd99",
   "metadata": {},
   "outputs": [],
   "source": [
    "# profile_data = sc.LoadSubset(\"sbt_XcZUwUj5CuZf\")\n",
    "# profile_data = sc.LoadSubset(\"sbt_tnZbUHv0uTGO\")\n",
    "# profile_data = sc.LoadSubset(\"sbt_38mLwhFXLXlD\")\n",
    "# profile_data = sc.LoadSubset(\"sbt_oll9JwctqjUx\")\n",
    "# profile_data = sc.LoadSubset(\"sbt_yoL4MzV19cyD\")\n",
    "profile_data = sc.LoadSubset(\"sbt_S0woIPGIlbwm\")"
   ]
  },
  {
   "cell_type": "code",
   "execution_count": 11,
   "id": "437b81c6",
   "metadata": {},
   "outputs": [],
   "source": [
    "airfoil_profile_points = profile_data.values.tolist()"
   ]
  },
  {
   "cell_type": "markdown",
   "id": "685b4847",
   "metadata": {},
   "source": [
    "### Analize profile data"
   ]
  },
  {
   "cell_type": "code",
   "execution_count": 12,
   "id": "e18f315c",
   "metadata": {},
   "outputs": [],
   "source": [
    "sharp_tail = (\n",
    "    airfoil_profile_points[0][0] == airfoil_profile_points[-1][0]\n",
    "    and \n",
    "    airfoil_profile_points[0][1] == airfoil_profile_points[-1][1]\n",
    ")"
   ]
  },
  {
   "cell_type": "code",
   "execution_count": 13,
   "id": "311e9ab5",
   "metadata": {},
   "outputs": [],
   "source": [
    "def thicken_sharp_tail(profile_points):\n",
    "    \"\"\"\n",
    "    Patch tail points to avoid malformed geometry construction\n",
    "    and enable shell creation in CadQuery\n",
    "    \"\"\"\n",
    "    thicken_ratio = 0.3 # share of profile height at neighboring points\n",
    "\n",
    "    ## height at the first point pair after the tail point\n",
    "    h1 = profile_points[1][1] - profile_points[-2][1] \n",
    "    h0 = min(h1 * thicken_ratio, 0.001)\n",
    "\n",
    "    profile_points[0][1] = profile_points[0][1] + h0/2\n",
    "    profile_points[-1][1] = profile_points[-1][1] - h0/2"
   ]
  },
  {
   "cell_type": "code",
   "execution_count": 14,
   "id": "7226c6ee",
   "metadata": {},
   "outputs": [],
   "source": [
    "if sharp_tail:\n",
    "    thicken_sharp_tail(airfoil_profile_points)\n",
    "    sharp_tail = False"
   ]
  },
  {
   "cell_type": "code",
   "execution_count": 15,
   "id": "a46d1630",
   "metadata": {},
   "outputs": [
    {
     "data": {
      "image/png": "[encoded data removed]",
      "text/plain": [
       "<Figure size 1500x1500 with 1 Axes>"
      ]
     },
     "metadata": {},
     "output_type": "display_data"
    }
   ],
   "source": [
    "px, py = zip(*airfoil_profile_points)\n",
    "\n",
    "plt.rcParams['figure.figsize'] = [15, 15]\n",
    "plt.plot(px, py, 'bo')\n",
    "plt.grid()\n",
    "ax = plt.gca()\n",
    "ax.set_aspect('equal', adjustable='box')\n",
    "\n",
    "plt.show()"
   ]
  },
  {
   "cell_type": "code",
   "execution_count": null,
   "id": "a4782819",
   "metadata": {},
   "outputs": [],
   "source": []
  },
  {
   "cell_type": "markdown",
   "id": "d0246223",
   "metadata": {},
   "source": [
    "## Build profile curve"
   ]
  },
  {
   "cell_type": "code",
   "execution_count": 16,
   "id": "9561dd5b",
   "metadata": {},
   "outputs": [],
   "source": [
    "def bspl_approx_profile(profile_points, s=2e-5, k=3):\n",
    "    \"\"\"\n",
    "    B-Spline approximation of the discrete profile data, represented in Selig format\n",
    "    \n",
    "    Paameters:\n",
    "    'pp' - array of [x,y] coords\n",
    "    's' - smoothing factor\n",
    "    'k' - spline degree\n",
    "    \n",
    "    Returns:\n",
    "    't', 'cx',  - B-Spline represntation, instances of the SplineCloud ParametricUnivariateSpline\n",
    "    \"\"\"\n",
    "    xvals = [p[0] for p in profile_points]\n",
    "    yvals = [p[1] for p in profile_points]\n",
    "    \n",
    "    ## set weights to critical profile points\n",
    "    weight_mod = lambda x: 20 if x==0.0 else (5 if x==1.0 else 1)\n",
    "    weights = list(map(weight_mod, xvals))\n",
    "    \n",
    "    tck, u = splprep([xvals, yvals], s=s, k=k, w=weights)\n",
    "    t, c, k = tck\n",
    "    cx, cy = c\n",
    "    \n",
    "    ## adjust spline end points to match profile points\n",
    "    cx[0], cy[0] = profile_points[0]\n",
    "    cx[-1], cy[-1] = profile_points[-1]\n",
    "       \n",
    "    return t[k:-k], np.array(list(zip(cx, cy))), k"
   ]
  },
  {
   "cell_type": "code",
   "execution_count": 17,
   "id": "43bc83df",
   "metadata": {},
   "outputs": [],
   "source": [
    "t, c, k = bspl_approx_profile(airfoil_profile_points)"
   ]
  },
  {
   "cell_type": "code",
   "execution_count": 18,
   "id": "6f78e97d",
   "metadata": {},
   "outputs": [],
   "source": [
    "c = c*100 ## scale geometry "
   ]
  },
  {
   "cell_type": "code",
   "execution_count": 19,
   "id": "f712c879",
   "metadata": {},
   "outputs": [],
   "source": [
    "airfoil_bspl = build_spline(t, c, k)"
   ]
  },
  {
   "cell_type": "code",
   "execution_count": 20,
   "id": "b6cb18db",
   "metadata": {},
   "outputs": [],
   "source": [
    "airfoil_edge = cq.Edge(BRepBuilderAPI_MakeEdge(airfoil_bspl).Edge())"
   ]
  },
  {
   "cell_type": "code",
   "execution_count": 21,
   "id": "54fb8829",
   "metadata": {},
   "outputs": [
    {
     "data": {
      "application/vnd.jupyter.widget-view+json": {
       "model_id": "0c5fa7ae75044990b619540acb62b503",
       "version_major": 2,
       "version_minor": 0
      },
      "text/plain": [
       "CadViewerWidget(anchor=None, cad_width=800, glass=False, height=600, pinning=False, theme='light', title=None,…"
      ]
     },
     "metadata": {},
     "output_type": "display_data"
    },
    {
     "data": {
      "text/html": [
       "<div></div>"
      ],
      "text/plain": [
       "<IPython.core.display.HTML object>"
      ]
     },
     "metadata": {},
     "output_type": "display_data"
    }
   ],
   "source": [
    "airfoil_edge"
   ]
  },
  {
   "cell_type": "code",
   "execution_count": 22,
   "id": "ae8c79bd",
   "metadata": {},
   "outputs": [
    {
     "data": {
      "application/vnd.jupyter.widget-view+json": {
       "model_id": "78a5c72f6bfd4f6bb6cd337f9d00d28b",
       "version_major": 2,
       "version_minor": 0
      },
      "text/plain": [
       "CadViewerWidget(anchor=None, cad_width=800, glass=False, height=600, pinning=False, theme='light', title=None,…"
      ]
     },
     "metadata": {},
     "output_type": "display_data"
    },
    {
     "data": {
      "text/html": [
       "<div></div>"
      ],
      "text/plain": [
       "<IPython.core.display.HTML object>"
      ]
     },
     "metadata": {},
     "output_type": "display_data"
    }
   ],
   "source": [
    "if sharp_tail:\n",
    "    airfoil_sketch = cq.Sketch().edge(airfoil_edge).assemble()\n",
    "else:\n",
    "    airfoil_sketch = cq.Sketch().edge(airfoil_edge).close().assemble()\n",
    "\n",
    "airfoil_sketch"
   ]
  },
  {
   "cell_type": "code",
   "execution_count": 23,
   "id": "e6beb613",
   "metadata": {},
   "outputs": [
    {
     "data": {
      "application/vnd.jupyter.widget-view+json": {
       "model_id": "049c617358764060a4d6a20865d7f489",
       "version_major": 2,
       "version_minor": 0
      },
      "text/plain": [
       "CadViewerWidget(anchor=None, cad_width=800, glass=False, height=600, pinning=False, theme='light', title=None,…"
      ]
     },
     "metadata": {},
     "output_type": "display_data"
    },
    {
     "data": {
      "text/html": [
       "<div></div>"
      ],
      "text/plain": [
       "<IPython.core.display.HTML object>"
      ]
     },
     "metadata": {},
     "output_type": "display_data"
    }
   ],
   "source": [
    "airfoil_body = cq.Workplane().placeSketch(airfoil_sketch).extrude(100)\n",
    "airfoil_body"
   ]
  },
  {
   "cell_type": "code",
   "execution_count": 24,
   "id": "dc3ef820",
   "metadata": {},
   "outputs": [],
   "source": [
    "shell = airfoil_body.faces(\">Z or <Z\").shell(1)"
   ]
  },
  {
   "cell_type": "code",
   "execution_count": 25,
   "id": "618925d9",
   "metadata": {},
   "outputs": [
    {
     "data": {
      "application/vnd.jupyter.widget-view+json": {
       "model_id": "52cd4578858d4e4abb64de6637a4c0ce",
       "version_major": 2,
       "version_minor": 0
      },
      "text/plain": [
       "CadViewerWidget(anchor=None, cad_width=800, glass=False, height=600, pinning=False, theme='light', title=None,…"
      ]
     },
     "metadata": {},
     "output_type": "display_data"
    },
    {
     "data": {
      "text/html": [
       "<div></div>"
      ],
      "text/plain": [
       "<IPython.core.display.HTML object>"
      ]
     },
     "metadata": {},
     "output_type": "display_data"
    }
   ],
   "source": [
    "shell"
   ]
  },
  {
   "cell_type": "code",
   "execution_count": 26,
   "id": "55e9d86c",
   "metadata": {},
   "outputs": [],
   "source": [
    "shell_volume = shell.solids().vals()[0].Volume()"
   ]
  },
  {
   "cell_type": "code",
   "execution_count": 27,
   "id": "3a12e7e6",
   "metadata": {},
   "outputs": [],
   "source": [
    "body_volume = airfoil_body.solids().vals()[0].Volume()"
   ]
  },
  {
   "cell_type": "code",
   "execution_count": 28,
   "id": "dd9f90d6",
   "metadata": {},
   "outputs": [
    {
     "data": {
      "text/plain": [
       "4.697027026627288"
      ]
     },
     "execution_count": 28,
     "metadata": {},
     "output_type": "execute_result"
    }
   ],
   "source": [
    "body_volume / shell_volume"
   ]
  },
  {
   "cell_type": "code",
   "execution_count": null,
   "id": "7e81a25d",
   "metadata": {},
   "outputs": [],
   "source": []
  }
 ],
 "metadata": {
  "kernelspec": {
   "display_name": "Python 3 (ipykernel)",
   "language": "python",
   "name": "python3"
  },
  "language_info": {
   "codemirror_mode": {
    "name": "ipython",
    "version": 3
   },
   "file_extension": ".py",
   "mimetype": "text/x-python",
   "name": "python",
   "nbconvert_exporter": "python",
   "pygments_lexer": "ipython3",
   "version": "3.10.11"
  }
 },
 "nbformat": 4,
 "nbformat_minor": 5
}
