{
 "cells": [
  {
   "cell_type": "code",
   "execution_count": 1,
   "id": "deec482e",
   "metadata": {},
   "outputs": [],
   "source": [
    "import math\n",
    "from functools import partial\n",
    "from time import time\n",
    "\n",
    "from scipy.optimize import basinhopping, shgo, minimize_scalar, direct, dual_annealing\n",
    "from scipy.interpolate import splprep\n",
    "import cadquery as cq\n",
    "import numpy as np\n",
    "import matplotlib.pyplot as plt\n",
    "import pandas as pd\n",
    "# %matplotlib inline\n",
    "\n",
    "import splinecloud_scipy as sc"
   ]
  },
  {
   "cell_type": "code",
   "execution_count": 2,
   "id": "89994641",
   "metadata": {},
   "outputs": [],
   "source": [
    "# profile_data = sc.LoadSubset(\"sbt_XcZUwUj5CuZf\")\n",
    "# profile_data = sc.LoadSubset(\"sbt_tnZbUHv0uTGO\")\n",
    "# profile_data = sc.LoadSubset(\"sbt_38mLwhFXLXlD\")\n",
    "# profile_data = sc.LoadSubset(\"sbt_oll9JwctqjUx\")\n",
    "# profile_data = sc.LoadSubset(\"sbt_S0woIPGIlbwm\")\n",
    "profile_data = sc.LoadSubset(\"sbt_AfnajnXWA7nj\") ## NACA 63-210\n",
    "# profile_data = sc.LoadSubset(\"sbt_J8zx2Nw8qLo8\")"
   ]
  },
  {
   "cell_type": "code",
   "execution_count": 3,
   "id": "362ce2a9",
   "metadata": {},
   "outputs": [],
   "source": [
    "airfoil_profile_points = profile_data.values.tolist()"
   ]
  },
  {
   "cell_type": "markdown",
   "id": "82a80321",
   "metadata": {},
   "source": [
    "## Build Profile Curve"
   ]
  },
  {
   "cell_type": "code",
   "execution_count": 4,
   "id": "1edad530",
   "metadata": {},
   "outputs": [],
   "source": [
    "def bspl_approx_profile(profile_points, s=1e-5, k=3):\n",
    "    \"\"\"\n",
    "    B-Spline approximation of the discrete profile data, represented in Selig format\n",
    "    \n",
    "    Paameters:\n",
    "    'pp' - array of [x,y] coords\n",
    "    's' - smoothing factor\n",
    "    'k' - spline degree\n",
    "    \n",
    "    Returns:\n",
    "    'bspl' - B-Spline represntation, instances of the SplineCloud ParametricUnivariateSpline\n",
    "    \"\"\"\n",
    "    xvals = [p[0] for p in profile_points]\n",
    "    yvals = [p[1] for p in profile_points]\n",
    "    \n",
    "    ## set weights to critical profile points\n",
    "    weight_mod = lambda x: 20 if x==0.0 else (5 if x==1.0 else 1)\n",
    "    weights = list(map(weight_mod, xvals))\n",
    "    \n",
    "    tck, u = splprep([xvals, yvals], s=s, k=k, w=weights)\n",
    "    t, c, k = tck\n",
    "    cx, cy = c\n",
    "    \n",
    "    print(len(cx))\n",
    "    \n",
    "    ## adjust spline end points to match profile points\n",
    "    cx[0], cy[0] = profile_points[0]\n",
    "    cx[-1], cy[-1] = profile_points[-1]\n",
    "\n",
    "    bspl = sc.ParametricUnivariateSpline.from_tcck([t, cx, cy, k])\n",
    "    \n",
    "    return bspl"
   ]
  },
  {
   "cell_type": "markdown",
   "id": "edba488b",
   "metadata": {},
   "source": [
    "### Find B-Spline fit"
   ]
  },
  {
   "cell_type": "code",
   "execution_count": 5,
   "id": "68d610a2",
   "metadata": {},
   "outputs": [
    {
     "name": "stdout",
     "output_type": "stream",
     "text": [
      "13\n"
     ]
    }
   ],
   "source": [
    "bspl = bspl_approx_profile(airfoil_profile_points)"
   ]
  },
  {
   "cell_type": "code",
   "execution_count": 6,
   "id": "ff7c03c6",
   "metadata": {},
   "outputs": [],
   "source": [
    "## evaluate spline points with high resulution\n",
    "spline_knotspace = np.linspace(0, 1, 600)\n",
    "spline_points = [bspl(k) for k in spline_knotspace]"
   ]
  },
  {
   "cell_type": "code",
   "execution_count": 7,
   "id": "f9a31a05",
   "metadata": {},
   "outputs": [
    {
     "data": {
      "image/png": "[encoded data removed]",
      "text/plain": [
       "<Figure size 1500x1500 with 1 Axes>"
      ]
     },
     "metadata": {},
     "output_type": "display_data"
    }
   ],
   "source": [
    "## plot results\n",
    "spl_x, spl_y = zip(*spline_points)\n",
    "px, py = zip(*airfoil_profile_points)\n",
    "\n",
    "plt.rcParams['figure.figsize'] = [15, 15]\n",
    "plt.plot(px, py, 'bo')\n",
    "plt.plot(spl_x, spl_y)\n",
    "plt.grid()\n",
    "# plt.xlim(-0.1, 0.2) ## zoom nose tip\n",
    "ax = plt.gca()\n",
    "ax.set_aspect('equal', adjustable='box')\n",
    "\n",
    "plt.show()"
   ]
  },
  {
   "cell_type": "markdown",
   "id": "c103f335",
   "metadata": {},
   "source": [
    "## Evaluate fit tolerance"
   ]
  },
  {
   "cell_type": "code",
   "execution_count": 8,
   "id": "9d24bfef",
   "metadata": {},
   "outputs": [],
   "source": [
    "def dist(t, bspl, point):\n",
    "    ## computes distance between point on bspl curve at given parameter t and cartesian point\n",
    "    sx, sy = bspl(t)\n",
    "    px, py = point\n",
    "    dist = math.sqrt((px-sx)**2 + (py-sy)**2)\n",
    "    \n",
    "    return dist"
   ]
  },
  {
   "cell_type": "code",
   "execution_count": 9,
   "id": "941b83a2",
   "metadata": {},
   "outputs": [],
   "source": [
    "def find_min_dist_scalar(bspl, data_point):\n",
    "    ## find minimal distance between data_point and B-Spline curve using local minimzation algorithm\n",
    "    f = partial(dist, bspl=bspl, point=data_point)\n",
    "    res = minimize_scalar(f, bounds=[0.0, 1.0], method=\"bounded\")\n",
    "    d = dist(res.x, bspl, data_point)\n",
    "    \n",
    "    return d"
   ]
  },
  {
   "cell_type": "code",
   "execution_count": 10,
   "id": "52433162",
   "metadata": {},
   "outputs": [],
   "source": [
    "# find_min_dist_scalar(bspl, airfoil_profile_points[30])"
   ]
  },
  {
   "cell_type": "code",
   "execution_count": 11,
   "id": "a3bb9225",
   "metadata": {},
   "outputs": [],
   "source": [
    "def find_min_dist_shgo(bspl, data_point):\n",
    "    ## find minimal distance between data_point and B-Spline curve using global minimzation algorithm\n",
    "    f = partial(dist, bspl=bspl, point=data_point)\n",
    "    res = shgo(f, bounds=[(0.0, 1.0)])\n",
    "    d = dist(res.x[0], bspl, data_point)\n",
    "    \n",
    "    return d"
   ]
  },
  {
   "cell_type": "code",
   "execution_count": 12,
   "id": "ed283cf3",
   "metadata": {},
   "outputs": [],
   "source": [
    "# find_min_dist_shgo(bspl, airfoil_profile_points[30])"
   ]
  },
  {
   "cell_type": "code",
   "execution_count": 13,
   "id": "34a57c57",
   "metadata": {},
   "outputs": [],
   "source": [
    "def find_min_dist_basinhopping(bspl, data_point):\n",
    "    ## find minimal distance between data_point and B-Spline curve using global minimzation algorithm\n",
    "    def f(t):\n",
    "        if t > 1.0:\n",
    "            return 1e6\n",
    "        elif t < 0.0:\n",
    "            return 1e6\n",
    "        \n",
    "        return dist(t, bspl, data_point)\n",
    "        \n",
    "    res = basinhopping(f, 0.5, minimizer_kwargs={\"method\": \"BFGS\"})\n",
    "    d = dist(float(res.x), bspl, data_point)\n",
    "    \n",
    "    return d"
   ]
  },
  {
   "cell_type": "code",
   "execution_count": 14,
   "id": "eb50a2d3",
   "metadata": {},
   "outputs": [],
   "source": [
    "# find_min_dist_basinhopping(bspl, airfoil_profile_points[20])"
   ]
  },
  {
   "cell_type": "code",
   "execution_count": 15,
   "id": "03d79903",
   "metadata": {},
   "outputs": [],
   "source": [
    "def find_min_dist_direct(bspl, data_point):\n",
    "    ## find minimal distance between data_point and B-Spline curve using global minimzation algorithm\n",
    "    f = partial(dist, bspl=bspl, point=data_point)\n",
    "    res = direct(f, bounds=[(0.0, 1.0)])\n",
    "    d = dist(res.x[0], bspl, data_point)\n",
    "    \n",
    "    return d"
   ]
  },
  {
   "cell_type": "code",
   "execution_count": 16,
   "id": "2d448249",
   "metadata": {},
   "outputs": [],
   "source": [
    "# find_min_dist_direct(bspl, airfoil_profile_points[20])"
   ]
  },
  {
   "cell_type": "markdown",
   "id": "8ecf29b9",
   "metadata": {},
   "source": [
    "### Calculate errors with different methods"
   ]
  },
  {
   "cell_type": "code",
   "execution_count": 17,
   "id": "7d35a7fb",
   "metadata": {},
   "outputs": [
    {
     "name": "stdout",
     "output_type": "stream",
     "text": [
      "time: 0.01222848892211914\n"
     ]
    }
   ],
   "source": [
    "t = time()\n",
    "appox_errors_local = [find_min_dist_scalar(bspl, p) for p in airfoil_profile_points]\n",
    "print(\"time:\", time() - t)"
   ]
  },
  {
   "cell_type": "code",
   "execution_count": 18,
   "id": "98161cc6",
   "metadata": {},
   "outputs": [
    {
     "name": "stdout",
     "output_type": "stream",
     "text": [
      "time: 0.15997624397277832\n"
     ]
    }
   ],
   "source": [
    "t = time()\n",
    "appox_errors_shgo = [find_min_dist_shgo(bspl, p) for p in airfoil_profile_points]\n",
    "print(\"time:\", time() - t)"
   ]
  },
  {
   "cell_type": "code",
   "execution_count": 19,
   "id": "c70940dd",
   "metadata": {},
   "outputs": [
    {
     "name": "stdout",
     "output_type": "stream",
     "text": [
      "time: 8.648877143859863\n"
     ]
    }
   ],
   "source": [
    "t = time()\n",
    "appox_errors_basinhopping = [find_min_dist_basinhopping(bspl, p) for p in airfoil_profile_points]\n",
    "print(\"time:\", time() - t)"
   ]
  },
  {
   "cell_type": "code",
   "execution_count": 20,
   "id": "7e481f5e",
   "metadata": {},
   "outputs": [
    {
     "name": "stdout",
     "output_type": "stream",
     "text": [
      "time: 0.06687736511230469\n"
     ]
    }
   ],
   "source": [
    "t = time()\n",
    "appox_errors_direct = [find_min_dist_direct(bspl, p) for p in airfoil_profile_points]\n",
    "print(\"time:\", time() - t)"
   ]
  },
  {
   "cell_type": "code",
   "execution_count": 21,
   "id": "badba080",
   "metadata": {},
   "outputs": [],
   "source": [
    "errors_stack = np.dstack([appox_errors_local, appox_errors_shgo, appox_errors_basinhopping, appox_errors_direct])"
   ]
  },
  {
   "cell_type": "code",
   "execution_count": 22,
   "id": "4f3c2002",
   "metadata": {},
   "outputs": [
    {
     "data": {
      "text/plain": [
       "array([[1.20470963e-05, 0.00000000e+00, 7.54517494e-03, 6.35195852e-07],\n",
       "       [3.55795522e-04, 3.55785629e-04, 3.55785628e-04, 3.55785628e-04],\n",
       "       [4.12158572e-04, 4.12157037e-04, 4.12157037e-04, 4.12157507e-04],\n",
       "       [3.77404809e-04, 3.77402347e-04, 3.77402347e-04, 3.77402421e-04],\n",
       "       [2.22399924e-04, 2.22377607e-04, 2.22377606e-04, 2.22377810e-04],\n",
       "       [6.35966518e-05, 6.35955152e-05, 6.35955129e-05, 6.35969835e-05],\n",
       "       [7.27754805e-05, 7.27753126e-05, 7.27753110e-05, 7.27753169e-05],\n",
       "       [1.52903668e-04, 1.52894155e-04, 1.52894154e-04, 1.52894222e-04],\n",
       "       [1.77643170e-04, 1.77635680e-04, 1.77635680e-04, 1.77635709e-04],\n",
       "       [1.50856371e-04, 1.50850960e-04, 1.50850959e-04, 1.50852034e-04],\n",
       "       [1.05132376e-04, 1.05129521e-04, 1.05129521e-04, 1.05129525e-04],\n",
       "       [2.12627976e-05, 2.11584006e-05, 2.11584006e-05, 2.11648560e-05],\n",
       "       [7.16385730e-05, 7.16379362e-05, 7.16379359e-05, 7.16379427e-05],\n",
       "       [1.55296514e-04, 1.55264840e-04, 1.55264840e-04, 1.55266061e-04],\n",
       "       [2.32441775e-04, 2.32427226e-04, 2.32427226e-04, 2.32427578e-04],\n",
       "       [2.15673590e-04, 2.15651244e-04, 2.15651243e-04, 2.15651294e-04],\n",
       "       [3.20073879e-06, 2.72148860e-06, 2.72148860e-06, 2.72663549e-06],\n",
       "       [2.92556525e-04, 2.92552226e-04, 2.92552225e-04, 2.92552287e-04],\n",
       "       [3.69555912e-04, 3.69554724e-04, 3.69554724e-04, 3.69554786e-04],\n",
       "       [6.90102117e-05, 6.90090160e-05, 6.90090144e-05, 6.90114221e-05],\n",
       "       [4.66730998e-04, 4.66723448e-04, 4.66723448e-04, 4.66723449e-04],\n",
       "       [2.55719342e-04, 2.55719190e-04, 2.55719190e-04, 2.55719853e-04],\n",
       "       [2.36415488e-05, 2.34329127e-05, 2.34329073e-05, 2.34358543e-05],\n",
       "       [1.97347179e-04, 1.97347078e-04, 1.97347078e-04, 1.97348202e-04],\n",
       "       [1.29399488e-04, 1.29399293e-04, 1.29399293e-04, 1.29399763e-04],\n",
       "       [6.47062528e-06, 5.55208117e-06, 5.55207722e-06, 5.56055348e-06],\n",
       "       [2.56220774e-05, 2.56181307e-05, 2.56181228e-05, 2.56200425e-05],\n",
       "       [1.14201598e-04, 1.14194997e-04, 1.14194996e-04, 1.14195649e-04],\n",
       "       [4.55842376e-04, 4.55841207e-04, 4.55841205e-04, 4.55841518e-04],\n",
       "       [4.78586379e-04, 4.78585846e-04, 4.78585846e-04, 4.78586243e-04],\n",
       "       [2.48790994e-04, 2.48790943e-04, 2.48790943e-04, 2.48791184e-04],\n",
       "       [2.51258294e-05, 2.50849400e-05, 2.50849354e-05, 2.50873490e-05],\n",
       "       [3.61629469e-04, 3.61628770e-04, 3.61628770e-04, 3.61629318e-04],\n",
       "       [4.73487053e-04, 7.90570985e-02, 4.73478795e-04, 4.73478863e-04],\n",
       "       [2.39496639e-04, 8.86000237e-02, 2.39491236e-04, 2.39491236e-04],\n",
       "       [7.45618899e-05, 9.51378409e-02, 7.45238160e-05, 7.45254451e-05],\n",
       "       [2.66571084e-04, 9.89721758e-02, 2.66568864e-04, 2.66568942e-04],\n",
       "       [3.79024484e-04, 1.00159868e-01, 3.79022546e-04, 3.79022555e-04],\n",
       "       [4.20453731e-04, 9.87997423e-02, 4.20445014e-04, 4.20445161e-04],\n",
       "       [2.74109141e-04, 9.51928590e-02, 2.74095614e-04, 2.74096294e-04],\n",
       "       [6.02986853e-06, 8.96233734e-02, 5.73219246e-06, 5.73747753e-06],\n",
       "       [2.88060093e-04, 2.88042738e-04, 2.88042738e-04, 2.88042829e-04],\n",
       "       [3.26023143e-04, 3.26022591e-04, 3.26022591e-04, 3.26023003e-04],\n",
       "       [7.27024907e-04, 7.27024055e-04, 7.27024054e-04, 7.27024144e-04],\n",
       "       [7.22612398e-04, 7.22605211e-04, 7.22605211e-04, 7.22605229e-04],\n",
       "       [5.10454984e-04, 5.10454820e-04, 5.10454820e-04, 5.10454904e-04],\n",
       "       [1.17999425e-04, 1.17957278e-04, 1.17957276e-04, 1.17958808e-04],\n",
       "       [4.59748860e-04, 4.59746516e-04, 4.59746515e-04, 4.59746675e-04],\n",
       "       [1.25307658e-02, 1.07773198e-03, 1.07773198e-03, 1.07773199e-03],\n",
       "       [4.45103606e-03, 1.53829911e-03, 1.53829911e-03, 1.53829913e-03],\n",
       "       [1.20470963e-05, 0.00000000e+00, 1.50002933e-02, 6.35195852e-07]])"
      ]
     },
     "execution_count": 22,
     "metadata": {},
     "output_type": "execute_result"
    }
   ],
   "source": [
    "errors_stack[0]"
   ]
  },
  {
   "cell_type": "markdown",
   "id": "daec383f",
   "metadata": {},
   "source": [
    "### Calculate mean approimation errors"
   ]
  },
  {
   "cell_type": "code",
   "execution_count": 23,
   "id": "71504e78",
   "metadata": {},
   "outputs": [],
   "source": [
    "mindist_methods = {\n",
    "    \"scalar\": find_min_dist_scalar,\n",
    "    \"shgo\": find_min_dist_shgo,\n",
    "    \"basinhopping\": find_min_dist_basinhopping,\n",
    "    \"direct\": find_min_dist_direct,\n",
    "}"
   ]
  },
  {
   "cell_type": "code",
   "execution_count": 24,
   "id": "2faff44a",
   "metadata": {},
   "outputs": [],
   "source": [
    "def find_approx_error(bspl, data_points, method=\"direct\"):\n",
    "    \"\"\"\n",
    "    Calculate mean absolute error or root-mean-square error \n",
    "    \"\"\"\n",
    "    abs_errors = []\n",
    "    squared_errors = []\n",
    "        \n",
    "    if method not in mindist_methods.keys():\n",
    "        raise ValueError(\"Unsupported method\")\n",
    "        \n",
    "    dist_func = mindist_methods[method]\n",
    "        \n",
    "    for point in data_points:\n",
    "        error = dist_func(bspl, point)\n",
    "        abs_errors.append(error)\n",
    "        squared_errors.append(error**2)\n",
    "            \n",
    "    mae = sum(abs_errors)/len(abs_errors)\n",
    "    rmse = math.sqrt(sum(squared_errors)/len(squared_errors))\n",
    "    \n",
    "    return mae, rmse"
   ]
  },
  {
   "cell_type": "code",
   "execution_count": 25,
   "id": "714150cf",
   "metadata": {},
   "outputs": [
    {
     "data": {
      "text/plain": [
       "(0.0005608228404520003, 0.001885126175866498)"
      ]
     },
     "execution_count": 25,
     "metadata": {},
     "output_type": "execute_result"
    }
   ],
   "source": [
    "mae_scalar, rmse_scalar = find_approx_error(bspl, airfoil_profile_points, method=\"scalar\")\n",
    "mae_scalar, rmse_scalar"
   ]
  },
  {
   "cell_type": "code",
   "execution_count": 26,
   "id": "702dc100",
   "metadata": {},
   "outputs": [
    {
     "data": {
      "text/plain": [
       "(0.00027864827595629004, 0.0003944303192911767)"
      ]
     },
     "execution_count": 26,
     "metadata": {},
     "output_type": "execute_result"
    }
   ],
   "source": [
    "mae_direct, rmse_direct = find_approx_error(bspl, airfoil_profile_points, method=\"direct\")\n",
    "mae_direct, rmse_direct"
   ]
  },
  {
   "cell_type": "code",
   "execution_count": null,
   "id": "c817f476",
   "metadata": {},
   "outputs": [],
   "source": []
  },
  {
   "cell_type": "code",
   "execution_count": null,
   "id": "5b4e928e",
   "metadata": {},
   "outputs": [],
   "source": []
  }
 ],
 "metadata": {
  "kernelspec": {
   "display_name": "Python 3 (ipykernel)",
   "language": "python",
   "name": "python3"
  },
  "language_info": {
   "codemirror_mode": {
    "name": "ipython",
    "version": 3
   },
   "file_extension": ".py",
   "mimetype": "text/x-python",
   "name": "python",
   "nbconvert_exporter": "python",
   "pygments_lexer": "ipython3",
   "version": "3.10.11"
  }
 },
 "nbformat": 4,
 "nbformat_minor": 5
}
